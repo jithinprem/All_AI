{
 "cells": [
  {
   "cell_type": "code",
   "execution_count": 1,
   "id": "07e66d36",
   "metadata": {},
   "outputs": [],
   "source": [
    "import pandas as pd"
   ]
  },
  {
   "cell_type": "code",
   "execution_count": 2,
   "id": "c732251b",
   "metadata": {},
   "outputs": [],
   "source": [
    "input_list = pd.read_csv('dataset/project.csv')"
   ]
  },
  {
   "cell_type": "code",
   "execution_count": 4,
   "id": "b948c0f9",
   "metadata": {},
   "outputs": [
    {
     "data": {
      "text/html": [
       "<div>\n",
       "<style scoped>\n",
       "    .dataframe tbody tr th:only-of-type {\n",
       "        vertical-align: middle;\n",
       "    }\n",
       "\n",
       "    .dataframe tbody tr th {\n",
       "        vertical-align: top;\n",
       "    }\n",
       "\n",
       "    .dataframe thead th {\n",
       "        text-align: right;\n",
       "    }\n",
       "</style>\n",
       "<table border=\"1\" class=\"dataframe\">\n",
       "  <thead>\n",
       "    <tr style=\"text-align: right;\">\n",
       "      <th></th>\n",
       "      <th>id|folder|signer|annotation</th>\n",
       "    </tr>\n",
       "  </thead>\n",
       "  <tbody>\n",
       "    <tr>\n",
       "      <th>0</th>\n",
       "      <td>01April_2010_Thursday_heute_default-1|01April_...</td>\n",
       "    </tr>\n",
       "    <tr>\n",
       "      <th>1</th>\n",
       "      <td>01August_2011_Monday_heute_default-6|01August_...</td>\n",
       "    </tr>\n",
       "    <tr>\n",
       "      <th>2</th>\n",
       "      <td>01December_2011_Thursday_heute_default-3|01Dec...</td>\n",
       "    </tr>\n",
       "    <tr>\n",
       "      <th>3</th>\n",
       "      <td>01December_2011_Thursday_heute_default-5|01Dec...</td>\n",
       "    </tr>\n",
       "    <tr>\n",
       "      <th>4</th>\n",
       "      <td>01February_2011_Tuesday_heute_default-6|01Febr...</td>\n",
       "    </tr>\n",
       "  </tbody>\n",
       "</table>\n",
       "</div>"
      ],
      "text/plain": [
       "                         id|folder|signer|annotation\n",
       "0  01April_2010_Thursday_heute_default-1|01April_...\n",
       "1  01August_2011_Monday_heute_default-6|01August_...\n",
       "2  01December_2011_Thursday_heute_default-3|01Dec...\n",
       "3  01December_2011_Thursday_heute_default-5|01Dec...\n",
       "4  01February_2011_Tuesday_heute_default-6|01Febr..."
      ]
     },
     "execution_count": 4,
     "metadata": {},
     "output_type": "execute_result"
    }
   ],
   "source": [
    "input_list.head()"
   ]
  },
  {
   "cell_type": "code",
   "execution_count": 6,
   "id": "568b4e76",
   "metadata": {},
   "outputs": [
    {
     "data": {
      "text/plain": [
       "id|folder|signer|annotation    01December_2011_Thursday_heute_default-5|01Dec...\n",
       "Name: 3, dtype: object"
      ]
     },
     "execution_count": 6,
     "metadata": {},
     "output_type": "execute_result"
    }
   ],
   "source": [
    "input_list.iloc[3]"
   ]
  },
  {
   "cell_type": "code",
   "execution_count": 7,
   "id": "e5aadbee",
   "metadata": {},
   "outputs": [],
   "source": [
    "input_list.drop([3], inplace = True)"
   ]
  },
  {
   "cell_type": "code",
   "execution_count": 8,
   "id": "218d9cd9",
   "metadata": {},
   "outputs": [
    {
     "data": {
      "text/plain": [
       "id|folder|signer|annotation    01February_2011_Tuesday_heute_default-6|01Febr...\n",
       "Name: 4, dtype: object"
      ]
     },
     "execution_count": 8,
     "metadata": {},
     "output_type": "execute_result"
    }
   ],
   "source": [
    "input_list.iloc[3]"
   ]
  },
  {
   "cell_type": "code",
   "execution_count": null,
   "id": "af9e5709",
   "metadata": {},
   "outputs": [],
   "source": []
  }
 ],
 "metadata": {
  "kernelspec": {
   "display_name": "Python 3",
   "language": "python",
   "name": "python3"
  },
  "language_info": {
   "codemirror_mode": {
    "name": "ipython",
    "version": 3
   },
   "file_extension": ".py",
   "mimetype": "text/x-python",
   "name": "python",
   "nbconvert_exporter": "python",
   "pygments_lexer": "ipython3",
   "version": "3.8.8"
  }
 },
 "nbformat": 4,
 "nbformat_minor": 5
}
