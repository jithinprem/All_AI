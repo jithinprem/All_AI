{
 "cells": [
  {
   "cell_type": "markdown",
   "id": "6ff3ad12",
   "metadata": {},
   "source": [
    "## TIME SERIES FORECAST"
   ]
  },
  {
   "cell_type": "code",
   "execution_count": null,
   "id": "8431a1e4",
   "metadata": {},
   "outputs": [],
   "source": []
  },
  {
   "cell_type": "code",
   "execution_count": null,
   "id": "1518529a",
   "metadata": {},
   "outputs": [],
   "source": []
  },
  {
   "cell_type": "code",
   "execution_count": 1,
   "id": "86d28c57",
   "metadata": {},
   "outputs": [],
   "source": [
    "import matplotlib.pyplot as plt\n",
    "import pandas as pd\n",
    "import numpy as np\n",
    "import seaborn as sns"
   ]
  },
  {
   "cell_type": "code",
   "execution_count": 2,
   "id": "8d4bc27a",
   "metadata": {},
   "outputs": [],
   "source": [
    "airline_dataset = pd.read_csv('dataset/airline-passengers.csv')"
   ]
  },
  {
   "cell_type": "code",
   "execution_count": 3,
   "id": "e8406262",
   "metadata": {},
   "outputs": [
    {
     "data": {
      "text/html": [
       "<div>\n",
       "<style scoped>\n",
       "    .dataframe tbody tr th:only-of-type {\n",
       "        vertical-align: middle;\n",
       "    }\n",
       "\n",
       "    .dataframe tbody tr th {\n",
       "        vertical-align: top;\n",
       "    }\n",
       "\n",
       "    .dataframe thead th {\n",
       "        text-align: right;\n",
       "    }\n",
       "</style>\n",
       "<table border=\"1\" class=\"dataframe\">\n",
       "  <thead>\n",
       "    <tr style=\"text-align: right;\">\n",
       "      <th></th>\n",
       "      <th>Month</th>\n",
       "      <th>Passengers</th>\n",
       "    </tr>\n",
       "  </thead>\n",
       "  <tbody>\n",
       "    <tr>\n",
       "      <th>0</th>\n",
       "      <td>1949-01</td>\n",
       "      <td>112</td>\n",
       "    </tr>\n",
       "    <tr>\n",
       "      <th>1</th>\n",
       "      <td>1949-02</td>\n",
       "      <td>118</td>\n",
       "    </tr>\n",
       "    <tr>\n",
       "      <th>2</th>\n",
       "      <td>1949-03</td>\n",
       "      <td>132</td>\n",
       "    </tr>\n",
       "    <tr>\n",
       "      <th>3</th>\n",
       "      <td>1949-04</td>\n",
       "      <td>129</td>\n",
       "    </tr>\n",
       "    <tr>\n",
       "      <th>4</th>\n",
       "      <td>1949-05</td>\n",
       "      <td>121</td>\n",
       "    </tr>\n",
       "  </tbody>\n",
       "</table>\n",
       "</div>"
      ],
      "text/plain": [
       "     Month  Passengers\n",
       "0  1949-01         112\n",
       "1  1949-02         118\n",
       "2  1949-03         132\n",
       "3  1949-04         129\n",
       "4  1949-05         121"
      ]
     },
     "execution_count": 3,
     "metadata": {},
     "output_type": "execute_result"
    }
   ],
   "source": [
    "airline_dataset.head()"
   ]
  },
  {
   "cell_type": "code",
   "execution_count": 4,
   "id": "f30782a7",
   "metadata": {},
   "outputs": [
    {
     "data": {
      "text/plain": [
       "0"
      ]
     },
     "execution_count": 4,
     "metadata": {},
     "output_type": "execute_result"
    }
   ],
   "source": [
    "airline_dataset.isnull().sum().sum()"
   ]
  },
  {
   "cell_type": "code",
   "execution_count": 5,
   "id": "d042ead3",
   "metadata": {},
   "outputs": [],
   "source": [
    "# there are no null values"
   ]
  },
  {
   "cell_type": "code",
   "execution_count": 6,
   "id": "572901fd",
   "metadata": {},
   "outputs": [],
   "source": [
    "# there is no categorical value\n",
    "# there is no question of imblance dataset because its kind of regression task\n",
    "# don't know about outliers, need to check"
   ]
  },
  {
   "cell_type": "code",
   "execution_count": null,
   "id": "aae4260f",
   "metadata": {},
   "outputs": [],
   "source": []
  },
  {
   "cell_type": "code",
   "execution_count": 7,
   "id": "cfc422e5",
   "metadata": {},
   "outputs": [],
   "source": [
    "import torch"
   ]
  },
  {
   "cell_type": "code",
   "execution_count": 8,
   "id": "339ba71f",
   "metadata": {},
   "outputs": [],
   "source": [
    "from torch import nn"
   ]
  },
  {
   "cell_type": "code",
   "execution_count": null,
   "id": "fa7cb8d6",
   "metadata": {},
   "outputs": [],
   "source": [
    "\n",
    "        "
   ]
  },
  {
   "cell_type": "code",
   "execution_count": 9,
   "id": "50ea21c8",
   "metadata": {},
   "outputs": [],
   "source": [
    "from torch.utils.data import DataLoader, Dataset"
   ]
  },
  {
   "cell_type": "code",
   "execution_count": 10,
   "id": "7cfac500",
   "metadata": {},
   "outputs": [],
   "source": [
    "class DLoader(DataLoader):\n",
    "    def __init__(self):\n",
    "        super(Dloader, self).__init__()\n",
    "    \n",
    "    def __getitem__(ind):\n",
    "        return airline_dataset.iloc[ind]['Month'], airline_dataset.iloc[ind]['Passengers']\n",
    "    def __len__():\n",
    "        return len(airline_dataset)\n",
    "        "
   ]
  },
  {
   "cell_type": "code",
   "execution_count": 11,
   "id": "ef666482",
   "metadata": {},
   "outputs": [
    {
     "data": {
      "text/plain": [
       "numpy.int64"
      ]
     },
     "execution_count": 11,
     "metadata": {},
     "output_type": "execute_result"
    }
   ],
   "source": [
    "type(airline_dataset.iloc[2]['Passengers'])"
   ]
  },
  {
   "cell_type": "code",
   "execution_count": 12,
   "id": "245bae5f",
   "metadata": {},
   "outputs": [
    {
     "data": {
      "text/plain": [
       "0    112\n",
       "1    118\n",
       "2    132\n",
       "3    129\n",
       "4    121\n",
       "Name: Passengers, dtype: int64"
      ]
     },
     "execution_count": 12,
     "metadata": {},
     "output_type": "execute_result"
    }
   ],
   "source": [
    "airline_dataset = airline_dataset['Passengers']\n",
    "airline_dataset.head()"
   ]
  },
  {
   "cell_type": "code",
   "execution_count": 13,
   "id": "f1883b58",
   "metadata": {},
   "outputs": [],
   "source": [
    "from sklearn.preprocessing import MinMaxScaler"
   ]
  },
  {
   "cell_type": "code",
   "execution_count": 14,
   "id": "ff5da87e",
   "metadata": {},
   "outputs": [],
   "source": [
    "scaler = MinMaxScaler(feature_range=(0, 1))"
   ]
  },
  {
   "cell_type": "code",
   "execution_count": 15,
   "id": "9613384f",
   "metadata": {},
   "outputs": [
    {
     "data": {
      "text/plain": [
       "0      112.0\n",
       "1      118.0\n",
       "2      132.0\n",
       "3      129.0\n",
       "4      121.0\n",
       "       ...  \n",
       "139    606.0\n",
       "140    508.0\n",
       "141    461.0\n",
       "142    390.0\n",
       "143    432.0\n",
       "Name: Passengers, Length: 144, dtype: float32"
      ]
     },
     "execution_count": 15,
     "metadata": {},
     "output_type": "execute_result"
    }
   ],
   "source": [
    "airline_dataset = airline_dataset.astype('float32')\n",
    "airline_dataset"
   ]
  },
  {
   "cell_type": "code",
   "execution_count": 16,
   "id": "487afe71",
   "metadata": {},
   "outputs": [
    {
     "data": {
      "text/plain": [
       "array([[112.],\n",
       "       [118.],\n",
       "       [132.],\n",
       "       [129.],\n",
       "       [121.]])"
      ]
     },
     "execution_count": 16,
     "metadata": {},
     "output_type": "execute_result"
    }
   ],
   "source": [
    "import numpy as np\n",
    "dataset = [x for x in airline_dataset]\n",
    "dataset = np.reshape(dataset, (-1, 1))\n",
    "dataset[:5]"
   ]
  },
  {
   "cell_type": "code",
   "execution_count": null,
   "id": "3502199f",
   "metadata": {},
   "outputs": [],
   "source": []
  },
  {
   "cell_type": "code",
   "execution_count": null,
   "id": "06388e5f",
   "metadata": {},
   "outputs": [],
   "source": []
  },
  {
   "cell_type": "code",
   "execution_count": null,
   "id": "7759bf84",
   "metadata": {},
   "outputs": [],
   "source": []
  },
  {
   "cell_type": "markdown",
   "id": "c8a531b3",
   "metadata": {},
   "source": [
    "### see how the code below works ie. datatype.astype()"
   ]
  },
  {
   "cell_type": "code",
   "execution_count": 17,
   "id": "810b70c8",
   "metadata": {},
   "outputs": [],
   "source": [
    "# dataframe = pd.read_csv('dataset/airline-passengers.csv', usecols=[1], engine='python')\n",
    "# dataset = dataframe.values\n",
    "# dataset = dataset.astype('float32')\n",
    "# # normalize the dataset\n"
   ]
  },
  {
   "cell_type": "code",
   "execution_count": null,
   "id": "b6fd71b9",
   "metadata": {},
   "outputs": [],
   "source": []
  },
  {
   "cell_type": "code",
   "execution_count": 18,
   "id": "69bda182",
   "metadata": {},
   "outputs": [],
   "source": [
    "scaler = MinMaxScaler(feature_range=(0, 1))\n",
    "dataset = scaler.fit_transform(dataset)"
   ]
  },
  {
   "cell_type": "code",
   "execution_count": 19,
   "id": "70046fa0",
   "metadata": {},
   "outputs": [
    {
     "data": {
      "text/plain": [
       "array([[0.01544402],\n",
       "       [0.02702703],\n",
       "       [0.05405405],\n",
       "       [0.04826255],\n",
       "       [0.03281853]])"
      ]
     },
     "execution_count": 19,
     "metadata": {},
     "output_type": "execute_result"
    }
   ],
   "source": [
    "dataset[:5]"
   ]
  },
  {
   "cell_type": "code",
   "execution_count": 20,
   "id": "8d48504e",
   "metadata": {},
   "outputs": [],
   "source": [
    "def create_dataset(dataset, lookback=2):\n",
    "    dataX, dataY= [], []\n",
    "    for i in range(len(dataset)-lookback-1):\n",
    "        xval = dataset[i:i+lookback, 0]\n",
    "        yval = dataset[i+lookback, 0]\n",
    "        dataX.append(xval)\n",
    "        dataY.append(yval)\n",
    "    return dataX, dataY"
   ]
  },
  {
   "cell_type": "code",
   "execution_count": 21,
   "id": "c327a897",
   "metadata": {},
   "outputs": [],
   "source": [
    "# splitting into training and testing\n",
    "# lets take 67 percent for training"
   ]
  },
  {
   "cell_type": "code",
   "execution_count": null,
   "id": "b3e316b1",
   "metadata": {},
   "outputs": [],
   "source": []
  },
  {
   "cell_type": "code",
   "execution_count": 22,
   "id": "4db67f3e",
   "metadata": {},
   "outputs": [],
   "source": [
    "dataX, dataY = create_dataset(dataset, lookback=2)"
   ]
  },
  {
   "cell_type": "code",
   "execution_count": 23,
   "id": "4462fff2",
   "metadata": {},
   "outputs": [
    {
     "name": "stdout",
     "output_type": "stream",
     "text": [
      "141\n"
     ]
    }
   ],
   "source": [
    "dataX[:5]\n",
    "print(len(dataX))"
   ]
  },
  {
   "cell_type": "code",
   "execution_count": 24,
   "id": "cee45454",
   "metadata": {},
   "outputs": [
    {
     "data": {
      "text/plain": [
       "[0.05405405405405403,\n",
       " 0.04826254826254825,\n",
       " 0.03281853281853281,\n",
       " 0.05984555984555981,\n",
       " 0.08494208494208491]"
      ]
     },
     "execution_count": 24,
     "metadata": {},
     "output_type": "execute_result"
    }
   ],
   "source": [
    "dataY[:5]"
   ]
  },
  {
   "cell_type": "code",
   "execution_count": 25,
   "id": "f4fdddcf",
   "metadata": {},
   "outputs": [
    {
     "data": {
      "text/plain": [
       "array([[0.01544402],\n",
       "       [0.02702703],\n",
       "       [0.05405405],\n",
       "       [0.04826255],\n",
       "       [0.03281853]])"
      ]
     },
     "execution_count": 25,
     "metadata": {},
     "output_type": "execute_result"
    }
   ],
   "source": [
    "dataset[:5]"
   ]
  },
  {
   "cell_type": "code",
   "execution_count": 26,
   "id": "8289067d",
   "metadata": {},
   "outputs": [],
   "source": [
    "# LSTM input dimension is (batch_size, seq_lenght, input_size)"
   ]
  },
  {
   "cell_type": "code",
   "execution_count": 27,
   "id": "fa766c45",
   "metadata": {},
   "outputs": [],
   "source": [
    "# here we have a seq_len of 2, the input size is 1"
   ]
  },
  {
   "cell_type": "code",
   "execution_count": 28,
   "id": "e8fd7a8d",
   "metadata": {},
   "outputs": [],
   "source": [
    "class Model(nn.Module):\n",
    "    def __init__(self,input_size, hidden_size, num_layers):\n",
    "        super(Model, self).__init__()\n",
    "        self.hidden_size = hidden_size\n",
    "        self.num_layers = num_layers\n",
    "        self.input_size = input_size\n",
    "        self.lstm = nn.LSTM(input_size, hidden_size, num_layers, batch_first= True) # batch first tells the first dimension is batch\n",
    "\n",
    "    def forward(self, x):\n",
    "        out = self.lstm(x)\n",
    "        return out"
   ]
  },
  {
   "cell_type": "code",
   "execution_count": 29,
   "id": "a2504dfe",
   "metadata": {},
   "outputs": [],
   "source": [
    "train_size = int(len(dataset)*0.67)\n",
    "test_size = len(dataset)-train_size"
   ]
  },
  {
   "cell_type": "code",
   "execution_count": 49,
   "id": "9f7ee2f0",
   "metadata": {},
   "outputs": [],
   "source": [
    "train_x = dataX[:train_size]\n",
    "test_x = dataX[train_size:]\n",
    "\n",
    "train_y = dataY[:train_size]\n",
    "test_y = dataY[train_size:]\n",
    "\n",
    "\n",
    "\n",
    "class AirlineData(Dataset):\n",
    "    def __init__(self, st):\n",
    "        print('the length is : ', len(train_x), len(test_x))\n",
    "        torch.tensor(train_x[2],dtype = torch.float32)\n",
    "        self.st = st\n",
    "        \n",
    "    def __getitem__(self, index):\n",
    "        if(self.st == 'train'):\n",
    "            return torch.tensor(train_x[index],dtype = torch.float32), torch.tensor(train_y[index], dtype=tensor.float32)\n",
    "        elif(self.st == 'test'):\n",
    "            return torch.tensor(test_x[index],dtype = torch.float32), torch.tensor(test_y[index], dtype=tensor.float32)\n",
    "    def __len__(self):\n",
    "        if self.st == 'train':\n",
    "            return len(test_x)\n",
    "        else:\n",
    "            return len(train_x)"
   ]
  },
  {
   "cell_type": "code",
   "execution_count": 50,
   "id": "a41afd1a",
   "metadata": {},
   "outputs": [
    {
     "name": "stdout",
     "output_type": "stream",
     "text": [
      "the length is :  96 45\n"
     ]
    }
   ],
   "source": [
    "train_x = AirlineData('train')\n",
    "dataloader = DataLoader(train_x, shuffle = False, batch_size=1)"
   ]
  },
  {
   "cell_type": "code",
   "execution_count": null,
   "id": "1b6e8b4e",
   "metadata": {},
   "outputs": [],
   "source": []
  },
  {
   "cell_type": "code",
   "execution_count": 51,
   "id": "04e401e6",
   "metadata": {},
   "outputs": [],
   "source": [
    "from tqdm import tqdm"
   ]
  },
  {
   "cell_type": "code",
   "execution_count": null,
   "id": "a3645820",
   "metadata": {},
   "outputs": [
    {
     "name": "stderr",
     "output_type": "stream",
     "text": [
      "\r",
      "  0%|                                                                                           | 0/45 [00:00<?, ?it/s]"
     ]
    }
   ],
   "source": [
    "from sklearn.metrics import mean_squared_error as mse\n",
    "\n",
    "for epoch in range(4):\n",
    "    print(\"epoch : \", epoch)\n",
    "    for batch_ind, dataxy in enumerate(tqdm(dataloader)):\n",
    "        print('hello')\n",
    "           \n",
    "        \n",
    "        \n",
    "        \n",
    "            "
   ]
  },
  {
   "cell_type": "code",
   "execution_count": null,
   "id": "885acef8",
   "metadata": {},
   "outputs": [],
   "source": []
  },
  {
   "cell_type": "code",
   "execution_count": null,
   "id": "a10475b6",
   "metadata": {},
   "outputs": [],
   "source": []
  },
  {
   "cell_type": "code",
   "execution_count": null,
   "id": "242611bd",
   "metadata": {},
   "outputs": [],
   "source": [
    "input_size, hidden_size, num_layers = 2, 128, 2\n",
    "model = Model(input_size, hidden_size, num_layers)"
   ]
  },
  {
   "cell_type": "code",
   "execution_count": null,
   "id": "c8696e1b",
   "metadata": {},
   "outputs": [],
   "source": []
  }
 ],
 "metadata": {
  "kernelspec": {
   "display_name": "Python 3",
   "language": "python",
   "name": "python3"
  },
  "language_info": {
   "codemirror_mode": {
    "name": "ipython",
    "version": 3
   },
   "file_extension": ".py",
   "mimetype": "text/x-python",
   "name": "python",
   "nbconvert_exporter": "python",
   "pygments_lexer": "ipython3",
   "version": "3.8.8"
  }
 },
 "nbformat": 4,
 "nbformat_minor": 5
}
